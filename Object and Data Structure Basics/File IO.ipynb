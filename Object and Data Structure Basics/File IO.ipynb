{
 "cells": [
  {
   "cell_type": "markdown",
   "id": "98398237-51e1-443b-9030-c7236e415d80",
   "metadata": {},
   "source": [
    "<div style=\"text-align: center;\">\n",
    "  <h3><b>File I/O</b></h3>\n",
    "</div>\n",
    "\n",
    "<hr style=\"border: 1px solid #ccc; margin: 20px 0;\">\n",
    "\n",
    "<p style=\"font-size: 17px; text-align: center;\">\n",
    "  <i>This exercise will require several lines of code.</i>\n",
    "</p>\n",
    "\n",
    "<p style=\"font-size: 17px; text-align: center;\">\n",
    "  <i>Write a script that opens a file named</i> <b>'test.txt'</b>, <i>writes</i> <b>'Hello World'</b> <i>to the file, then closes it.</i>\n",
    "</p>\n",
    "\n",
    "<div style=\"font-size: 17px; text-align: center;\">\n",
    "  For example, the following code opens a file called <code>'myfile.txt'</code>, writes <b>'This is my file'</b>, and closes it:\n",
    "</div>\n",
    "\n",
    "<p style=\"font-size: 17px; text-align: center;\">\n",
    "    <br>\n",
    "<code>x = open('myfile.txt', 'w')<br>\n",
    "x.write('This is my file')<br>\n",
    "x.close()</code>\n",
    "</p>\n",
    "\n",
    "<br>\n",
    "\n",
    "<p style=\"font-size: 17px; text-align: center;\">\n",
    "  <b>Follow the example format to complete the task.</b>\n",
    "</p>"
   ]
  },
  {
   "cell_type": "code",
   "execution_count": 1,
   "id": "dee9603c-7832-4b14-947a-0b92107c58a6",
   "metadata": {},
   "outputs": [],
   "source": [
    "file = open(\"test.txt\", \"w\")\n",
    "file.write(\"Hello World\")\n",
    "file.close()"
   ]
  }
 ],
 "metadata": {
  "kernelspec": {
   "display_name": "Python 3 (ipykernel)",
   "language": "python",
   "name": "python3"
  },
  "language_info": {
   "codemirror_mode": {
    "name": "ipython",
    "version": 3
   },
   "file_extension": ".py",
   "mimetype": "text/x-python",
   "name": "python",
   "nbconvert_exporter": "python",
   "pygments_lexer": "ipython3",
   "version": "3.12.4"
  }
 },
 "nbformat": 4,
 "nbformat_minor": 5
}
