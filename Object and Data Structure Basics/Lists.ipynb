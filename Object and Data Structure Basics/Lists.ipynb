{
 "cells": [
  {
   "cell_type": "markdown",
   "id": "1cf7a841-5b3c-4b04-a9a8-debd0714d681",
   "metadata": {},
   "source": [
    "<div style=\"text-align: center;\">\n",
    "  <h3><b>Lists</b></h3>\n",
    "</div>\n",
    "\n",
    "<hr style=\"border: 1px solid #ccc; margin: 20px 0;\">\n",
    "\n",
    "<p style=\"font-size: 17px; text-align: center;\">\n",
    "  <i>Create a list that contains at least one string, one integer, and one float.</i>\n",
    "</p>\n",
    "\n",
    "<div style=\"font-size: 17px; text-align: center;\">\n",
    "  For example: <code>[1, 'two', 3.14159]</code>\n",
    "</div>\n",
    "\n",
    "<br>\n",
    "\n",
    "<p style=\"font-size: 17px; text-align: center;\">\n",
    "  <b>Note that the order and number of items doesn't matter.</b>\n",
    "</p>\n",
    "\n",
    "<p style=\"font-size: 17px; text-align: center;\">\n",
    "  <b>Your answer should be just one list on a single line. Don't assign a variable name to the list.</b>\n",
    "</p>"
   ]
  },
  {
   "cell_type": "code",
   "execution_count": 1,
   "id": "952ac7b1-2d66-437b-9d1d-5d14ce762421",
   "metadata": {},
   "outputs": [],
   "source": [
    "list = ['pwn', 1337, 3.14]"
   ]
  }
 ],
 "metadata": {
  "kernelspec": {
   "display_name": "Python 3 (ipykernel)",
   "language": "python",
   "name": "python3"
  },
  "language_info": {
   "codemirror_mode": {
    "name": "ipython",
    "version": 3
   },
   "file_extension": ".py",
   "mimetype": "text/x-python",
   "name": "python",
   "nbconvert_exporter": "python",
   "pygments_lexer": "ipython3",
   "version": "3.12.4"
  }
 },
 "nbformat": 4,
 "nbformat_minor": 5
}
