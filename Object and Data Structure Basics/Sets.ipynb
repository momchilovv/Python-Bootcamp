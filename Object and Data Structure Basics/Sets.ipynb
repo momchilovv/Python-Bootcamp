{
 "cells": [
  {
   "cell_type": "markdown",
   "id": "d4c7fe6b-753a-4470-9ea8-c2c93efb9c62",
   "metadata": {},
   "source": [
    "<div style=\"text-align: center;\">\n",
    "  <h3><b>Sets</b></h3>\n",
    "</div>\n",
    "\n",
    "<hr style=\"border: 1px solid #ccc; margin: 20px 0;\">\n",
    "\n",
    "<p style=\"font-size: 17px; text-align: center;\">\n",
    "  <i>Write an expression that would turn the string</i> <b>'Mississippi'</b> <i>into a set of unique letters.</i>\n",
    "</p>\n",
    "\n",
    "<div style=\"font-size: 17px; text-align: center;\">\n",
    "  For example: <code>set('Parallel')</code> would return the set <code>{'P', 'a', 'e', 'l', 'r'}</code>.\n",
    "</div>\n",
    "\n",
    "<br>\n",
    "\n",
    "<p style=\"font-size: 17px; text-align: center;\">\n",
    "  <b>You should only write one line of code for this. Do not assign a variable name to the set.</b>\n",
    "</p>"
   ]
  },
  {
   "cell_type": "code",
   "execution_count": 1,
   "id": "49e2d2ee-f0d5-4842-8c2c-a4cdaf562225",
   "metadata": {},
   "outputs": [
    {
     "name": "stdout",
     "output_type": "stream",
     "text": [
      "{'p', 's', 'M', 'i'}\n"
     ]
    }
   ],
   "source": [
    "print(set('Mississippi'))"
   ]
  }
 ],
 "metadata": {
  "kernelspec": {
   "display_name": "Python 3 (ipykernel)",
   "language": "python",
   "name": "python3"
  },
  "language_info": {
   "codemirror_mode": {
    "name": "ipython",
    "version": 3
   },
   "file_extension": ".py",
   "mimetype": "text/x-python",
   "name": "python",
   "nbconvert_exporter": "python",
   "pygments_lexer": "ipython3",
   "version": "3.12.4"
  }
 },
 "nbformat": 4,
 "nbformat_minor": 5
}
