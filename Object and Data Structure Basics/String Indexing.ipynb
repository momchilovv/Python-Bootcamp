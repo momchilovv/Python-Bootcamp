{
 "cells": [
  {
   "cell_type": "markdown",
   "id": "4646b5ea-4372-4a42-a57c-0c1ee02ac259",
   "metadata": {},
   "source": [
    "<div style=\"text-align: center;\">\n",
    "  <h3><b>String Indexing</b></h3>\n",
    "</div>\n",
    "\n",
    "<hr style=\"border: 1px solid #ccc; margin: 20px 0;\">\n",
    "\n",
    "<p style=\"font-size: 17px; text-align: center;\">\n",
    "  <i>Write a string index that returns just the letter</i> <b>'r'</b> <i>from</i> <code>'Hello World'</code>.\n",
    "</p>\n",
    "\n",
    "<div style=\"font-size: 17px; text-align: center;\">\n",
    "  For example, <code>'Hello World'[0]</code> returns <b>'H'</b>.\n",
    "</div>\n",
    "\n",
    "<br>\n",
    "\n",
    "<p style=\"font-size: 17px; text-align: center;\">\n",
    "  <b>You should only write one line of code for this. Do not assign a variable name to the string.</b>\n",
    "</p>"
   ]
  },
  {
   "cell_type": "code",
   "execution_count": 1,
   "id": "040d3ba3-cc4e-4eb8-8a44-17743da541f4",
   "metadata": {},
   "outputs": [
    {
     "name": "stdout",
     "output_type": "stream",
     "text": [
      "r\n"
     ]
    }
   ],
   "source": [
    "print(\"Hello World\"[-3])"
   ]
  }
 ],
 "metadata": {
  "kernelspec": {
   "display_name": "Python 3 (ipykernel)",
   "language": "python",
   "name": "python3"
  },
  "language_info": {
   "codemirror_mode": {
    "name": "ipython",
    "version": 3
   },
   "file_extension": ".py",
   "mimetype": "text/x-python",
   "name": "python",
   "nbconvert_exporter": "python",
   "pygments_lexer": "ipython3",
   "version": "3.12.4"
  }
 },
 "nbformat": 4,
 "nbformat_minor": 5
}
