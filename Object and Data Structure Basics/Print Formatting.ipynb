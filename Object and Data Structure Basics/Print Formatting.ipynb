{
 "cells": [
  {
   "cell_type": "markdown",
   "id": "e9c9b2cc-74a5-4c09-819f-f10c89412aaf",
   "metadata": {},
   "source": [
    "<div style=\"text-align: center;\">\n",
    "  <h3><b>Print Formatting</b></h3>\n",
    "</div>\n",
    "\n",
    "<hr style=\"border: 1px solid #ccc; margin: 20px 0;\">\n",
    "\n",
    "<p style=\"font-size: 17px; text-align: center;\">\n",
    "  <i>Write an expression using any of the string formatting methods we have learned</i> <b>(except f-strings, see note below)</b> <i>to return the phrase</i> <b>'Python rules!'</b>.\n",
    "</p>\n",
    "\n",
    "<div style=\"font-size: 17px; text-align: center;\">\n",
    "  For example, these phrases both return <b>'I like apples'</b>:\n",
    "</div>\n",
    "\n",
    "<p style=\"font-size: 17px; text-align: center;\">\n",
    "<code>'I like %s' % 'apples'</code><br>\n",
    "<code>'I like {}'.format('apples')</code>\n",
    "</p>\n",
    "\n",
    "<br>\n",
    "\n",
    "<p style=\"font-size: 17px; text-align: center;\">\n",
    "  <b>Your solution should be entered on one line. You cannot use variable names, only the strings themselves.</b>\n",
    "</p>\n",
    "<p style=\"font-size: 17px; text-align: center;\">\n",
    "  <b><a style=\"font-size: 18px;\">NOTE:</a></b> <i>At this time, f-strings won't work! Udemy Coding Exercises use Python 3.5.2, and f-strings require Python 3.6 or higher.</i>\n",
    "</p>\n"
   ]
  },
  {
   "cell_type": "code",
   "execution_count": 1,
   "id": "9f21b767-9706-4433-9461-472794623207",
   "metadata": {},
   "outputs": [
    {
     "name": "stdout",
     "output_type": "stream",
     "text": [
      "Python rules!\n"
     ]
    }
   ],
   "source": [
    "print(f\"Python {\"rules\"}!\")"
   ]
  }
 ],
 "metadata": {
  "kernelspec": {
   "display_name": "Python 3 (ipykernel)",
   "language": "python",
   "name": "python3"
  },
  "language_info": {
   "codemirror_mode": {
    "name": "ipython",
    "version": 3
   },
   "file_extension": ".py",
   "mimetype": "text/x-python",
   "name": "python",
   "nbconvert_exporter": "python",
   "pygments_lexer": "ipython3",
   "version": "3.12.4"
  }
 },
 "nbformat": 4,
 "nbformat_minor": 5
}
