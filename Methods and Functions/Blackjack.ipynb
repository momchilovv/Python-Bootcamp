{
 "cells": [
  {
   "cell_type": "markdown",
   "id": "c0558a8e-164b-474f-a02d-7f29cae74827",
   "metadata": {},
   "source": [
    "<b>BLACKJACK</b>: <i>Given three integers between 1 and 11, if their sum is less than or equal to 21, return their sum. If their sum exceeds 21 *and* there's an eleven, reduce the total sum by 10. Finally, if the sum (even after adjustment) exceeds 21, return 'BUST' </i>\n",
    "\n",
    "```python\n",
    "    blackjack(5,6,7) --> 18\n",
    "    blackjack(9,9,9) --> 'BUST'\n",
    "    blackjack(9,9,11) --> 19\n",
    "```"
   ]
  },
  {
   "cell_type": "code",
   "execution_count": 1,
   "id": "9cdac9d6-e7ba-4bba-bbd9-19e558b0a354",
   "metadata": {},
   "outputs": [],
   "source": [
    "def blackjack(a, b, c):\n",
    "    sum = a + b + c\n",
    "\n",
    "    if a == 11 or b == 11 or c == 11:\n",
    "        sum -= 10\n",
    "\n",
    "    if sum <= 21:\n",
    "        return sum\n",
    "    else: \n",
    "        return \"BUST\""
   ]
  },
  {
   "cell_type": "code",
   "execution_count": 2,
   "id": "99dc2919-17ae-43f0-a52f-af8f8dd9cd14",
   "metadata": {},
   "outputs": [
    {
     "data": {
      "text/plain": [
       "18"
      ]
     },
     "execution_count": 2,
     "metadata": {},
     "output_type": "execute_result"
    }
   ],
   "source": [
    "blackjack(5, 6, 7)"
   ]
  },
  {
   "cell_type": "code",
   "execution_count": 3,
   "id": "97d1940a-eddb-4db6-813e-b76b757c7335",
   "metadata": {},
   "outputs": [
    {
     "data": {
      "text/plain": [
       "'BUST'"
      ]
     },
     "execution_count": 3,
     "metadata": {},
     "output_type": "execute_result"
    }
   ],
   "source": [
    "blackjack(9, 9, 9)"
   ]
  },
  {
   "cell_type": "code",
   "execution_count": 4,
   "id": "746d406f-bc65-49fb-84ea-e8133c6d4979",
   "metadata": {},
   "outputs": [
    {
     "data": {
      "text/plain": [
       "19"
      ]
     },
     "execution_count": 4,
     "metadata": {},
     "output_type": "execute_result"
    }
   ],
   "source": [
    "blackjack(9, 9, 11)"
   ]
  }
 ],
 "metadata": {
  "kernelspec": {
   "display_name": "Python 3 (ipykernel)",
   "language": "python",
   "name": "python3"
  },
  "language_info": {
   "codemirror_mode": {
    "name": "ipython",
    "version": 3
   },
   "file_extension": ".py",
   "mimetype": "text/x-python",
   "name": "python",
   "nbconvert_exporter": "python",
   "pygments_lexer": "ipython3",
   "version": "3.12.4"
  }
 },
 "nbformat": 4,
 "nbformat_minor": 5
}
