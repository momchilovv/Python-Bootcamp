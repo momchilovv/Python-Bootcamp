{
 "cells": [
  {
   "cell_type": "markdown",
   "id": "ef4415d7-ac56-410c-a684-8c8683b58c5a",
   "metadata": {},
   "source": [
    "<b>ALMOST THERE</b>: <i>Given an integer n, return True if n is within 10 of either 100 or 200</i>\n",
    "\n",
    "```python\n",
    "almost_there(90) --> True\n",
    "almost_there(104) --> True\n",
    "almost_there(150) --> False\n",
    "almost_there(209) --> True\n",
    "    \n",
    "NOTE: `abs(num)` returns the absolute value of a number\n",
    "```"
   ]
  },
  {
   "cell_type": "code",
   "execution_count": 4,
   "id": "b72bf083-5312-41f1-a4c8-7877ea0f07fc",
   "metadata": {},
   "outputs": [],
   "source": [
    "def almost_there(number):\n",
    "    return ((abs(100 - number) <= 10) or (abs(200 - number) <= 10))"
   ]
  },
  {
   "cell_type": "code",
   "execution_count": 5,
   "id": "aaf81277-48b5-47cb-bf9f-137b3038d337",
   "metadata": {},
   "outputs": [
    {
     "data": {
      "text/plain": [
       "True"
      ]
     },
     "execution_count": 5,
     "metadata": {},
     "output_type": "execute_result"
    }
   ],
   "source": [
    "almost_there(90)"
   ]
  },
  {
   "cell_type": "code",
   "execution_count": 6,
   "id": "4818ce2e-4453-4ac6-bacc-201bf7fc18e3",
   "metadata": {},
   "outputs": [
    {
     "data": {
      "text/plain": [
       "True"
      ]
     },
     "execution_count": 6,
     "metadata": {},
     "output_type": "execute_result"
    }
   ],
   "source": [
    "almost_there(104)"
   ]
  },
  {
   "cell_type": "code",
   "execution_count": 7,
   "id": "47ef4cd5-36c8-4633-8184-d68297faaf31",
   "metadata": {},
   "outputs": [
    {
     "data": {
      "text/plain": [
       "False"
      ]
     },
     "execution_count": 7,
     "metadata": {},
     "output_type": "execute_result"
    }
   ],
   "source": [
    "almost_there(150)"
   ]
  },
  {
   "cell_type": "code",
   "execution_count": 8,
   "id": "8b172e06-b018-4603-b32e-9fe657b7120c",
   "metadata": {},
   "outputs": [
    {
     "data": {
      "text/plain": [
       "True"
      ]
     },
     "execution_count": 8,
     "metadata": {},
     "output_type": "execute_result"
    }
   ],
   "source": [
    "almost_there(209)"
   ]
  }
 ],
 "metadata": {
  "kernelspec": {
   "display_name": "Python 3 (ipykernel)",
   "language": "python",
   "name": "python3"
  },
  "language_info": {
   "codemirror_mode": {
    "name": "ipython",
    "version": 3
   },
   "file_extension": ".py",
   "mimetype": "text/x-python",
   "name": "python",
   "nbconvert_exporter": "python",
   "pygments_lexer": "ipython3",
   "version": "3.12.4"
  }
 },
 "nbformat": 4,
 "nbformat_minor": 5
}
