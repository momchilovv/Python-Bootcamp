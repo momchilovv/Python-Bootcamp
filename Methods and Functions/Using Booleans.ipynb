{
 "cells": [
  {
   "cell_type": "markdown",
   "id": "938dabe1-2763-4ea7-a877-6a8acaf9314e",
   "metadata": {},
   "source": [
    "<div style=\"text-align: center;\">\n",
    "  <h3><b>Using Booleans</b></h3>\n",
    "</div>\n",
    "\n",
    "<hr style=\"border: 1px solid #ccc; margin: 20px 0;\">\n",
    "\n",
    "<p style=\"font-size: 17px; text-align: center;\">\n",
    "  <i>Define a function called</i> <b>myfunc</b> <i>that takes three arguments</i>, <b>x</b>, <b>y</b>, <b>and z</b>. <i>If z is True, return</i> <b>x</b>. <i>If z is False, return</i> <b>y</b>.\n",
    "</p>\n",
    "\n",
    "<p style=\"font-size: 17px; text-align: center;\">\n",
    "  <b>Remember:</b> Don't run the function, simply provide the definition.\n",
    "</p>\n",
    "\n",
    "<div style=\"font-size: 17px; text-align: center;\">\n",
    "  For example, a function that returns <b>a</b> if <code>c</code> is True and <b>b</b> if <code>c</code> is False might look like:\n",
    "</div>\n",
    "\n",
    "<p style=\"font-size: 17px; text-align: center;\">\n",
    "  <br>\n",
    "  <code>def myfunc(a, b, c):<br>\n",
    " if c == True:<br>\n",
    " return a<br>\n",
    " else:<br>\n",
    " return b</code>\n",
    "</p>"
   ]
  },
  {
   "cell_type": "code",
   "execution_count": 2,
   "id": "4c8d39e0-9731-49eb-88c3-19f697b0e7a4",
   "metadata": {},
   "outputs": [],
   "source": [
    "def myfunc(x, y, z):\n",
    "    if z == True:\n",
    "        return x\n",
    "    else:\n",
    "        return y"
   ]
  }
 ],
 "metadata": {
  "kernelspec": {
   "display_name": "Python 3 (ipykernel)",
   "language": "python",
   "name": "python3"
  },
  "language_info": {
   "codemirror_mode": {
    "name": "ipython",
    "version": 3
   },
   "file_extension": ".py",
   "mimetype": "text/x-python",
   "name": "python",
   "nbconvert_exporter": "python",
   "pygments_lexer": "ipython3",
   "version": "3.12.4"
  }
 },
 "nbformat": 4,
 "nbformat_minor": 5
}
