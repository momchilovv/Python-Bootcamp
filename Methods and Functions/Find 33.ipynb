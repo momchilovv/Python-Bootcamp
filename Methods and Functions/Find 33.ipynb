{
 "cells": [
  {
   "cell_type": "markdown",
   "id": "1af09d59-ec7f-45ea-a478-233bf4e51c32",
   "metadata": {},
   "source": [
    "<b>FIND 33</b>: <i>Given a list of ints, return True if the array contains a 3 next to a 3 somewhere.</i>\n",
    "\n",
    "```python\n",
    "has_33([1, 3, 3]) → True\n",
    "has_33([1, 3, 1, 3]) → False\n",
    "has_33([3, 1, 3]) → False\n",
    "```"
   ]
  },
  {
   "cell_type": "code",
   "execution_count": 1,
   "id": "4e30a8f3-9e11-479e-a09f-d0382bb725dc",
   "metadata": {},
   "outputs": [],
   "source": [
    "def has_33(numbers):\n",
    "    for number in numbers:\n",
    "        if numbers[number:number + 2] == [3, 3]:\n",
    "            return True\n",
    "            \n",
    "    return False"
   ]
  },
  {
   "cell_type": "code",
   "execution_count": 2,
   "id": "021622fb-933a-4acd-8540-4584ed78c6ea",
   "metadata": {},
   "outputs": [
    {
     "data": {
      "text/plain": [
       "True"
      ]
     },
     "execution_count": 2,
     "metadata": {},
     "output_type": "execute_result"
    }
   ],
   "source": [
    "has_33([1, 3, 3])"
   ]
  },
  {
   "cell_type": "code",
   "execution_count": 3,
   "id": "79bf6c4d-74f7-4b53-9074-79d4406f5d8c",
   "metadata": {},
   "outputs": [
    {
     "data": {
      "text/plain": [
       "False"
      ]
     },
     "execution_count": 3,
     "metadata": {},
     "output_type": "execute_result"
    }
   ],
   "source": [
    "has_33([1, 3, 1, 3])"
   ]
  },
  {
   "cell_type": "code",
   "execution_count": 4,
   "id": "3bf36155-5cf9-44d2-8be4-28f361278c9b",
   "metadata": {},
   "outputs": [
    {
     "data": {
      "text/plain": [
       "False"
      ]
     },
     "execution_count": 4,
     "metadata": {},
     "output_type": "execute_result"
    }
   ],
   "source": [
    "has_33([3, 1, 3])"
   ]
  }
 ],
 "metadata": {
  "kernelspec": {
   "display_name": "Python 3 (ipykernel)",
   "language": "python",
   "name": "python3"
  },
  "language_info": {
   "codemirror_mode": {
    "name": "ipython",
    "version": 3
   },
   "file_extension": ".py",
   "mimetype": "text/x-python",
   "name": "python",
   "nbconvert_exporter": "python",
   "pygments_lexer": "ipython3",
   "version": "3.12.4"
  }
 },
 "nbformat": 4,
 "nbformat_minor": 5
}
