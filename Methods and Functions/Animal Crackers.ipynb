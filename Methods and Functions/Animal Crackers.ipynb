{
 "cells": [
  {
   "cell_type": "markdown",
   "id": "7397f45b-f885-4137-af7d-1ad0be4471b0",
   "metadata": {},
   "source": [
    "<b>ANIMAL CRACKERS</b>: <i>Write a function that takes a two-word string and returns True if both words begin with the same letter</i>\n",
    "```python\n",
    "    animal_crackers('Levelheaded Llama') --> True\n",
    "    animal_crackers('Crazy Kangaroo') --> False\n",
    "```"
   ]
  },
  {
   "cell_type": "code",
   "execution_count": 4,
   "id": "c237bec3-88aa-405c-9b38-2d0a9b071104",
   "metadata": {},
   "outputs": [],
   "source": [
    "def animal_crackers(str):\n",
    "    word = str.split()\n",
    "    if word[0][0] == word[1][0]:\n",
    "        return True\n",
    "    else:\n",
    "        return False"
   ]
  },
  {
   "cell_type": "code",
   "execution_count": 5,
   "id": "369570bb-1765-466b-a0cb-9893f0bca0cd",
   "metadata": {},
   "outputs": [
    {
     "data": {
      "text/plain": [
       "True"
      ]
     },
     "execution_count": 5,
     "metadata": {},
     "output_type": "execute_result"
    }
   ],
   "source": [
    "animal_crackers(\"Levelheaded Llama\")"
   ]
  },
  {
   "cell_type": "code",
   "execution_count": 6,
   "id": "2ebb5d0a-3d91-4794-b313-fac2c0e351fd",
   "metadata": {},
   "outputs": [
    {
     "data": {
      "text/plain": [
       "False"
      ]
     },
     "execution_count": 6,
     "metadata": {},
     "output_type": "execute_result"
    }
   ],
   "source": [
    "animal_crackers(\"Crazy Kangaroo\")"
   ]
  }
 ],
 "metadata": {
  "kernelspec": {
   "display_name": "Python 3 (ipykernel)",
   "language": "python",
   "name": "python3"
  },
  "language_info": {
   "codemirror_mode": {
    "name": "ipython",
    "version": 3
   },
   "file_extension": ".py",
   "mimetype": "text/x-python",
   "name": "python",
   "nbconvert_exporter": "python",
   "pygments_lexer": "ipython3",
   "version": "3.12.4"
  }
 },
 "nbformat": 4,
 "nbformat_minor": 5
}
