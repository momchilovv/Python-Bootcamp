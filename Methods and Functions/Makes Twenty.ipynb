{
 "cells": [
  {
   "cell_type": "markdown",
   "id": "d17df957-5a8e-4de4-9b0c-c1d6c2860e4a",
   "metadata": {},
   "source": [
    "<b>MAKES TWENTY</b>: <i>Given two integers, return True if the sum of the integers is 20 *or* if one of the integers is 20. If not, return False</i>\n",
    "\n",
    "```python\n",
    "makes_twenty(20,10) --> True\n",
    "makes_twenty(12,8) --> True\n",
    "makes_twenty(2,3) --> False\n",
    "```"
   ]
  },
  {
   "cell_type": "code",
   "execution_count": 7,
   "id": "50d1906b-02be-45b4-9166-cf91e2a62afa",
   "metadata": {},
   "outputs": [],
   "source": [
    "def makes_twenty(a, b):\n",
    "    if a + b == 20 or a == 20 or b == 20:\n",
    "        return True\n",
    "    else:\n",
    "        return False"
   ]
  },
  {
   "cell_type": "code",
   "execution_count": 8,
   "id": "08690048-a2d5-4417-93f7-9decd8df8c1d",
   "metadata": {},
   "outputs": [
    {
     "data": {
      "text/plain": [
       "True"
      ]
     },
     "execution_count": 8,
     "metadata": {},
     "output_type": "execute_result"
    }
   ],
   "source": [
    "makes_twenty(20, 10)"
   ]
  },
  {
   "cell_type": "code",
   "execution_count": 9,
   "id": "0e386cb9-2e33-459e-b053-457b7a9dc95a",
   "metadata": {},
   "outputs": [
    {
     "data": {
      "text/plain": [
       "True"
      ]
     },
     "execution_count": 9,
     "metadata": {},
     "output_type": "execute_result"
    }
   ],
   "source": [
    "makes_twenty(12, 8)"
   ]
  },
  {
   "cell_type": "code",
   "execution_count": 10,
   "id": "b94586c6-363d-4ad0-96f6-7631ce4932f8",
   "metadata": {},
   "outputs": [
    {
     "data": {
      "text/plain": [
       "False"
      ]
     },
     "execution_count": 10,
     "metadata": {},
     "output_type": "execute_result"
    }
   ],
   "source": [
    "makes_twenty(2, 3)"
   ]
  }
 ],
 "metadata": {
  "kernelspec": {
   "display_name": "Python 3 (ipykernel)",
   "language": "python",
   "name": "python3"
  },
  "language_info": {
   "codemirror_mode": {
    "name": "ipython",
    "version": 3
   },
   "file_extension": ".py",
   "mimetype": "text/x-python",
   "name": "python",
   "nbconvert_exporter": "python",
   "pygments_lexer": "ipython3",
   "version": "3.12.4"
  }
 },
 "nbformat": 4,
 "nbformat_minor": 5
}
