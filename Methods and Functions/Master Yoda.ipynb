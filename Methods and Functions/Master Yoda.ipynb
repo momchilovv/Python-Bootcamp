{
 "cells": [
  {
   "cell_type": "markdown",
   "id": "26a68eab-649c-4584-8c36-7b4de8601b3a",
   "metadata": {},
   "source": [
    "<b>MASTER YODA</b>: <i>Given a sentence, return a sentence with the words reversed</i>\n",
    "\n",
    "```python\n",
    "master_yoda('I am home') --> 'home am I'\n",
    "master_yoda('We are ready') --> 'ready are We'\n",
    "```"
   ]
  },
  {
   "cell_type": "code",
   "execution_count": 1,
   "id": "96fc6cb9-94e5-4135-a194-b5c130e95ce5",
   "metadata": {},
   "outputs": [],
   "source": [
    "def master_yoda(sentence):\n",
    "    reversed_sentence = ''\n",
    "    \n",
    "    for word in range(len(sentence.split()) - 1, -1, -1):\n",
    "        reversed_sentence += f\"{sentence.split()[word]} \"\n",
    "        \n",
    "    return reversed_sentence.rstrip()"
   ]
  },
  {
   "cell_type": "code",
   "execution_count": 2,
   "id": "f5a5e2cf-3317-4936-8b0c-aa31f083a891",
   "metadata": {},
   "outputs": [
    {
     "data": {
      "text/plain": [
       "'home am I'"
      ]
     },
     "execution_count": 2,
     "metadata": {},
     "output_type": "execute_result"
    }
   ],
   "source": [
    "master_yoda(\"I am home\")"
   ]
  },
  {
   "cell_type": "code",
   "execution_count": 3,
   "id": "037ea731-9106-4e7a-ba44-3425e8f7fc8f",
   "metadata": {},
   "outputs": [
    {
     "data": {
      "text/plain": [
       "'ready are We'"
      ]
     },
     "execution_count": 3,
     "metadata": {},
     "output_type": "execute_result"
    }
   ],
   "source": [
    "master_yoda(\"We are ready\")"
   ]
  }
 ],
 "metadata": {
  "kernelspec": {
   "display_name": "Python 3 (ipykernel)",
   "language": "python",
   "name": "python3"
  },
  "language_info": {
   "codemirror_mode": {
    "name": "ipython",
    "version": 3
   },
   "file_extension": ".py",
   "mimetype": "text/x-python",
   "name": "python",
   "nbconvert_exporter": "python",
   "pygments_lexer": "ipython3",
   "version": "3.12.4"
  }
 },
 "nbformat": 4,
 "nbformat_minor": 5
}
