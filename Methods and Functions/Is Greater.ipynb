{
 "cells": [
  {
   "cell_type": "markdown",
   "id": "f044c3e7-ec45-4117-b44f-f06c896e524c",
   "metadata": {},
   "source": [
    "<div style=\"text-align: center;\">\n",
    "  <h3><b>Is Greater</b></h3>\n",
    "</div>\n",
    "\n",
    "<hr style=\"border: 1px solid #ccc; margin: 20px 0;\">\n",
    "\n",
    "<p style=\"font-size: 17px; text-align: center;\">\n",
    "  <i>Define a function called</i> <b>is_greater</b> <i>that takes in two arguments, and returns</i> <b>True</b> <i>if the first value is greater than the second,</i> <b>False</b> <i>if it is less than or equal to the second.</i>\n",
    "</p>\n",
    "\n",
    "<div style=\"font-size: 17px; text-align: center;\">\n",
    "  Remember, don't run the function, simply provide the definition.\n",
    "</div>\n",
    "\n",
    "<p style=\"font-size: 17px; text-align: center;\">\n",
    "  For example, a function that returns True if the first value is less than the second might look like:\n",
    "</p>\n",
    "\n",
    "<p style=\"font-size: 17px; text-align: center;\">\n",
    "  <br>\n",
    "  <code>def is_less(c, d):<br>    if c < d:<br>        return True<br>    else:<br>        return False</code>\n",
    "</p>\n",
    "\n",
    "<br>\n",
    "\n",
    "<p style=\"font-size: 17px; text-align: center;\">\n",
    "  This is all you need to enter!\n",
    "</p>\n",
    "\n",
    "<div style=\"font-size: 17px; text-align: center;\">\n",
    "  To give an idea what the above function would look like when tested:\n",
    "</div>\n",
    "\n",
    "<p style=\"font-size: 17px; text-align: center;\">\n",
    "  <code>is_less(5, 9)</code><br>\n",
    "  <b># Output:</b> True\n",
    "</p>\n",
    "\n",
    "<p style=\"font-size: 17px; text-align: center;\">\n",
    "  <b>Added note:</b> this exercise requires that the function <i>return</i> True or False. Print statements will not work here.\n",
    "</p>\n"
   ]
  },
  {
   "cell_type": "code",
   "execution_count": 1,
   "id": "9d531c44-73f4-41e4-8617-f5d9b6f289e0",
   "metadata": {},
   "outputs": [],
   "source": [
    "def is_greater(a, b):\n",
    "    if a > b:\n",
    "        return True\n",
    "    else:\n",
    "        return False"
   ]
  }
 ],
 "metadata": {
  "kernelspec": {
   "display_name": "Python 3 (ipykernel)",
   "language": "python",
   "name": "python3"
  },
  "language_info": {
   "codemirror_mode": {
    "name": "ipython",
    "version": 3
   },
   "file_extension": ".py",
   "mimetype": "text/x-python",
   "name": "python",
   "nbconvert_exporter": "python",
   "pygments_lexer": "ipython3",
   "version": "3.12.4"
  }
 },
 "nbformat": 4,
 "nbformat_minor": 5
}
