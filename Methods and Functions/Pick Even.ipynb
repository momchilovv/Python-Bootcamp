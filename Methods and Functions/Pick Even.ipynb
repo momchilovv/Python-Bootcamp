{
 "cells": [
  {
   "cell_type": "markdown",
   "id": "3686d19a-d809-40e8-86e1-54ae886b42b4",
   "metadata": {},
   "source": [
    "<div style=\"text-align: center;\">\n",
    "  <h3><b>Pick Evens</b></h3>\n",
    "</div>\n",
    "\n",
    "<hr style=\"border: 1px solid #ccc; margin: 20px 0;\">\n",
    "\n",
    "<p style=\"font-size: 17px; text-align: center;\">\n",
    "  <i>Define a function called</i> <b>myfunc</b> <i>that takes in an arbitrary number of arguments, and returns a list containing only those arguments that are even.</i>\n",
    "</p>\n",
    "\n",
    "<div style=\"font-size: 17px; text-align: center;\">\n",
    "  Remember, don't run the function, simply provide the definition.\n",
    "</div>\n",
    "\n",
    "<div style=\"font-size: 17px; text-align: center;\">\n",
    "  To give an idea what the function would look like when tested:\n",
    "</div>\n",
    "\n",
    "```python\n",
    "                                                myfunc(5, 6, 7, 8)\n",
    "```\n",
    "<p style=\"font-size: 17px; text-align: center;\">\n",
    "  <b># Output:</b> [6, 8]\n",
    "</p>\n",
    "\n",
    "<p style=\"font-size: 17px; text-align: center;\">\n",
    "  <b>Added note:</b> this exercise requires that the function <i>return</i> a list. Print statements will not work here.\n",
    "</p>"
   ]
  },
  {
   "cell_type": "code",
   "execution_count": 1,
   "id": "cd65cdf3-97a6-4d7d-86a3-729e9cba7dae",
   "metadata": {},
   "outputs": [],
   "source": [
    "def myfunc(*args):\n",
    "    return [num for num in args if num % 2 == 0]"
   ]
  }
 ],
 "metadata": {
  "kernelspec": {
   "display_name": "Python 3 (ipykernel)",
   "language": "python",
   "name": "python3"
  },
  "language_info": {
   "codemirror_mode": {
    "name": "ipython",
    "version": 3
   },
   "file_extension": ".py",
   "mimetype": "text/x-python",
   "name": "python",
   "nbconvert_exporter": "python",
   "pygments_lexer": "ipython3",
   "version": "3.12.4"
  }
 },
 "nbformat": 4,
 "nbformat_minor": 5
}
