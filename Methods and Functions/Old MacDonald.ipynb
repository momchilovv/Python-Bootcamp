{
 "cells": [
  {
   "cell_type": "markdown",
   "id": "e228a10b-319e-42d0-af9d-4345ba38556f",
   "metadata": {},
   "source": [
    "<b>OLD MACDONALD</b>: <i>Write a function that capitalizes the first and fourth letters of a name</i>\n",
    "\n",
    "```python\n",
    "old_macdonald('macdonald') --> MacDonald\n",
    "    \n",
    "Note: `'macdonald'.capitalize()` returns `'Macdonald'`"
   ]
  },
  {
   "cell_type": "code",
   "execution_count": 2,
   "id": "00ac9e65-6998-4757-a267-517066ac7a4b",
   "metadata": {},
   "outputs": [],
   "source": [
    "def old_macdonald(name):\n",
    "    if len(name) > 3:\n",
    "        return name[:3].capitalize() + name[3:].capitalize()\n",
    "    else:\n",
    "        return \"The name is too short!\" "
   ]
  },
  {
   "cell_type": "code",
   "execution_count": 3,
   "id": "4c6447bd-e898-4fe0-b85d-c16e1f710e58",
   "metadata": {},
   "outputs": [
    {
     "data": {
      "text/plain": [
       "'MacDonald'"
      ]
     },
     "execution_count": 3,
     "metadata": {},
     "output_type": "execute_result"
    }
   ],
   "source": [
    "old_macdonald(\"macdonald\")"
   ]
  }
 ],
 "metadata": {
  "kernelspec": {
   "display_name": "Python 3 (ipykernel)",
   "language": "python",
   "name": "python3"
  },
  "language_info": {
   "codemirror_mode": {
    "name": "ipython",
    "version": 3
   },
   "file_extension": ".py",
   "mimetype": "text/x-python",
   "name": "python",
   "nbconvert_exporter": "python",
   "pygments_lexer": "ipython3",
   "version": "3.12.4"
  }
 },
 "nbformat": 4,
 "nbformat_minor": 5
}
