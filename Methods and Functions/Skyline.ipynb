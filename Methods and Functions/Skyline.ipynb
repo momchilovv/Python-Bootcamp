{
 "cells": [
  {
   "cell_type": "markdown",
   "id": "47b828ee-0b2a-4a56-bf16-ba41d2e18bd2",
   "metadata": {},
   "source": [
    "<div style=\"text-align: center;\">\n",
    "  <h3><b>Skyline</b></h3>\n",
    "</div>\n",
    "\n",
    "<hr style=\"border: 1px solid #ccc; margin: 20px 0;\">\n",
    "\n",
    "<p style=\"font-size: 17px; text-align: center;\">\n",
    "  <i>Define a function called</i> <b>myfunc</b> <i>that takes in a string, and returns a matching string where every even letter is uppercase, and every odd letter is lowercase.</i> Assume that the incoming string only contains letters, and don't worry about numbers, spaces, or punctuation.\n",
    "</p>\n",
    "\n",
    "<div style=\"font-size: 17px; text-align: center;\">\n",
    "  The output string can start with either an uppercase or lowercase letter, so long as letters alternate throughout the string.\n",
    "</div>\n",
    "\n",
    "<div style=\"font-size: 17px; text-align: center;\">\n",
    "  Remember, don't run the function, simply provide the definition.\n",
    "</div>\n",
    "\n",
    "<div style=\"font-size: 17px; text-align: center;\">\n",
    "  To give an idea what the function would look like when tested:\n",
    "</div>\n",
    "\n",
    "```python\n",
    "⠀⠀⠀⠀⠀⠀⠀⠀⠀⠀⠀⠀⠀⠀⠀⠀⠀⠀⠀⠀⠀⠀⠀⠀⠀⠀⠀⠀⠀⠀⠀⠀⠀⠀⠀⠀⠀⠀⠀myfunc('Anthropomorphism')\n",
    "```\n",
    "<p style=\"font-size: 17px; text-align: center;\">\n",
    "  <b># Output:</b> 'aNtHrOpOmOrPhIsM'\n",
    "</p>\n",
    "\n",
    "<p style=\"font-size: 17px; text-align: center;\">\n",
    "  <b>Added note:</b> this exercise requires that the function <i>return</i> a string. Print statements will not work here.\n",
    "</p>\n"
   ]
  },
  {
   "cell_type": "code",
   "execution_count": 1,
   "id": "fe73d8bd-0fe6-49f9-a44d-1d33ed586ddc",
   "metadata": {},
   "outputs": [],
   "source": [
    "def myfunc(s):\n",
    "    result = \"\"\n",
    "    for i, char in enumerate(s):\n",
    "        if i % 2 == 0:\n",
    "            result += char.lower()\n",
    "        else:\n",
    "            result += char.upper()\n",
    "    return result"
   ]
  }
 ],
 "metadata": {
  "kernelspec": {
   "display_name": "Python 3 (ipykernel)",
   "language": "python",
   "name": "python3"
  },
  "language_info": {
   "codemirror_mode": {
    "name": "ipython",
    "version": 3
   },
   "file_extension": ".py",
   "mimetype": "text/x-python",
   "name": "python",
   "nbconvert_exporter": "python",
   "pygments_lexer": "ipython3",
   "version": "3.12.4"
  }
 },
 "nbformat": 4,
 "nbformat_minor": 5
}
