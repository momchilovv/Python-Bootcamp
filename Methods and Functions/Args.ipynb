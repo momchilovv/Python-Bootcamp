{
 "cells": [
  {
   "cell_type": "markdown",
   "id": "97868c7d-ea44-47b0-8045-080b314bfcb7",
   "metadata": {},
   "source": [
    "<div style=\"text-align: center;\">\n",
    "  <h3><b>Args</b></h3>\n",
    "</div>\n",
    "\n",
    "<hr style=\"border: 1px solid #ccc; margin: 20px 0;\">\n",
    "\n",
    "<p style=\"font-size: 17px; text-align: center;\">\n",
    "  <i>Define a function called</i> <b>myfunc</b> <i>that takes in an arbitrary number of arguments, and returns the sum of those arguments.</i>\n",
    "</p>\n",
    "\n",
    "<div style=\"font-size: 17px; text-align: center;\">\n",
    "  Remember, don't run the function, simply provide the definition.\n",
    "</div>\n",
    "\n",
    "<p style=\"font-size: 17px; text-align: center;\">\n",
    "  For example, a function that returns a count of the number of arbitrary arguments might look like:\n",
    "</p>\n",
    "\n",
    "<p style=\"font-size: 17px; text-align: center;\">\n",
    "  <br>\n",
    "  <code>def myfunc(*args):<br>    return len(args)</code>\n",
    "</p>\n",
    "\n",
    "<br>\n",
    "\n",
    "<p style=\"font-size: 17px; text-align: center;\">\n",
    "  This is all you need to enter!\n",
    "</p>\n",
    "\n",
    "<div style=\"font-size: 17px; text-align: center;\">\n",
    "  To give an idea what the above function would look like when tested:\n",
    "</div>\n",
    "\n",
    "<p style=\"font-size: 17px; text-align: center;\">\n",
    "  <code>myfunc(5, 6, 7, 8)</code><br>\n",
    "  <b># Output:</b> 4\n",
    "</p>\n",
    "\n",
    "<p style=\"font-size: 17px; text-align: center;\">\n",
    "  <b>Added note:</b> this exercise requires that the function <i>return</i> the sum. Print statements will not work here.\n",
    "</p>\n"
   ]
  },
  {
   "cell_type": "code",
   "execution_count": 1,
   "id": "62a91f42-cc1e-4f84-8011-e8917f897109",
   "metadata": {},
   "outputs": [],
   "source": [
    "def myfunc(*args):\n",
    "    return sum(args)"
   ]
  }
 ],
 "metadata": {
  "kernelspec": {
   "display_name": "Python 3 (ipykernel)",
   "language": "python",
   "name": "python3"
  },
  "language_info": {
   "codemirror_mode": {
    "name": "ipython",
    "version": 3
   },
   "file_extension": ".py",
   "mimetype": "text/x-python",
   "name": "python",
   "nbconvert_exporter": "python",
   "pygments_lexer": "ipython3",
   "version": "3.12.4"
  }
 },
 "nbformat": 4,
 "nbformat_minor": 5
}
