{
 "cells": [
  {
   "cell_type": "markdown",
   "id": "edb55aa2-b866-4b9a-90dc-76b977433323",
   "metadata": {},
   "source": [
    "<div style=\"text-align: center;\">\n",
    "  <h3><b>Simple Boolean</b></h3>\n",
    "</div>\n",
    "\n",
    "<hr style=\"border: 1px solid #ccc; margin: 20px 0;\">\n",
    "\n",
    "<p style=\"font-size: 17px; text-align: center;\">\n",
    "  <i>Define a function called</i> <b>myfunc</b> <i>that takes in a Boolean value</i> <b>(True or False)</b>. <i>If True, return</i> <b>'Hello'</b><i>, and if False, return</i> <b>'Goodbye'</b>.\n",
    "</p>\n",
    "\n",
    "<p style=\"font-size: 17px; text-align: center;\">\n",
    "  <b>Remember:</b> Don't run the function, simply provide the definition.\n",
    "</p>\n",
    "\n",
    "<div style=\"font-size: 17px; text-align: center;\">\n",
    "  For example, a function that returns <b>'Inside'</b> if <code>a</code> is True and <b>'Outside'</b> if <code>a</code> is False could look like:\n",
    "</div>\n",
    "\n",
    "<p style=\"font-size: 17px; text-align: center;\">\n",
    "  <br>\n",
    "  <code>def myfunc(a):<br>\n",
    "if a == True:<br>\n",
    "return 'Inside'<br>\n",
    "elif a == False:<br>\n",
    "return 'Outside'</code>\n",
    "</p>"
   ]
  },
  {
   "cell_type": "code",
   "execution_count": 2,
   "id": "43f4a8da-462d-4832-b1b9-6d5aa42bbdc6",
   "metadata": {},
   "outputs": [],
   "source": [
    "def myfunc(bool):\n",
    "    if bool == True:\n",
    "        return \"Hello\"\n",
    "    elif bool == False:\n",
    "        return \"Goodbye\""
   ]
  }
 ],
 "metadata": {
  "kernelspec": {
   "display_name": "Python 3 (ipykernel)",
   "language": "python",
   "name": "python3"
  },
  "language_info": {
   "codemirror_mode": {
    "name": "ipython",
    "version": 3
   },
   "file_extension": ".py",
   "mimetype": "text/x-python",
   "name": "python",
   "nbconvert_exporter": "python",
   "pygments_lexer": "ipython3",
   "version": "3.12.4"
  }
 },
 "nbformat": 4,
 "nbformat_minor": 5
}
