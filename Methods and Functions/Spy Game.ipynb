{
 "cells": [
  {
   "cell_type": "markdown",
   "id": "2f6bc9ab-45f8-4e1d-b0a1-c690a2d5f1d4",
   "metadata": {},
   "source": [
    "<b>SPY GAME</b>: <i>Write a function that takes in a list of integers and returns True if it contains 007 in order</i>\n",
    "\n",
    "```python\n",
    "     spy_game([1,2,4,0,0,7,5]) --> True\n",
    "     spy_game([1,0,2,4,0,5,7]) --> True\n",
    "     spy_game([1,7,2,0,4,5,0]) --> False\n",
    "```"
   ]
  },
  {
   "cell_type": "code",
   "execution_count": 3,
   "id": "3b8ce5cc-8c31-46ff-b181-51aa78eaf20b",
   "metadata": {},
   "outputs": [],
   "source": [
    "def spy_game(nums):\n",
    "    numbers = [0, 0, 7]\n",
    "\n",
    "    for num in nums:\n",
    "        if len(numbers) > 0 and num == numbers[0]:\n",
    "            numbers.pop(0)\n",
    "\n",
    "    if not numbers:\n",
    "        return True\n",
    "\n",
    "    return False"
   ]
  },
  {
   "cell_type": "code",
   "execution_count": 4,
   "id": "0e95b13f-52db-4895-98a5-1f68aba585dc",
   "metadata": {},
   "outputs": [
    {
     "data": {
      "text/plain": [
       "True"
      ]
     },
     "execution_count": 4,
     "metadata": {},
     "output_type": "execute_result"
    }
   ],
   "source": [
    "spy_game([1,2,4,0,0,7,5])"
   ]
  },
  {
   "cell_type": "code",
   "execution_count": 5,
   "id": "8fe3571b-15bf-42ac-ac6d-7a703ff3a8b7",
   "metadata": {},
   "outputs": [
    {
     "data": {
      "text/plain": [
       "True"
      ]
     },
     "execution_count": 5,
     "metadata": {},
     "output_type": "execute_result"
    }
   ],
   "source": [
    "spy_game([1,0,2,4,0,5,7])"
   ]
  },
  {
   "cell_type": "code",
   "execution_count": 6,
   "id": "7031d629-9417-47df-9d87-6840b6ed7c1d",
   "metadata": {},
   "outputs": [
    {
     "data": {
      "text/plain": [
       "False"
      ]
     },
     "execution_count": 6,
     "metadata": {},
     "output_type": "execute_result"
    }
   ],
   "source": [
    "spy_game([1,7,2,0,4,5,0])"
   ]
  }
 ],
 "metadata": {
  "kernelspec": {
   "display_name": "Python 3 (ipykernel)",
   "language": "python",
   "name": "python3"
  },
  "language_info": {
   "codemirror_mode": {
    "name": "ipython",
    "version": 3
   },
   "file_extension": ".py",
   "mimetype": "text/x-python",
   "name": "python",
   "nbconvert_exporter": "python",
   "pygments_lexer": "ipython3",
   "version": "3.12.4"
  }
 },
 "nbformat": 4,
 "nbformat_minor": 5
}
