{
 "cells": [
  {
   "cell_type": "markdown",
   "id": "04a0b69d-3450-4896-8841-90e31dc52022",
   "metadata": {},
   "source": [
    "<b>SUMMER OF '69</b>: <i>Return the sum of the numbers in the array, except ignore sections of numbers starting with a 6 and extending to the next 9 (every 6 will be followed by at least one 9). Return 0 for no numbers.</i>\n",
    "```python\n",
    "    summer_69([1, 3, 5]) --> 9\n",
    "    summer_69([4, 5, 6, 7, 8, 9]) --> 9\n",
    "    summer_69([2, 1, 6, 9, 11]) --> 14\n",
    "```"
   ]
  },
  {
   "cell_type": "code",
   "execution_count": 5,
   "id": "4abe6cd8-c921-470a-9d52-68517b1743cb",
   "metadata": {},
   "outputs": [],
   "source": [
    "def summer_69(array):\n",
    "    index, start, end, subtract = -1, -1, -1, 0\n",
    "    \n",
    "    for number in array:\n",
    "        index += 1\n",
    "\n",
    "        if number == 6:\n",
    "            start = index\n",
    "\n",
    "        if number == 9:\n",
    "            if index > start:\n",
    "                end = index    \n",
    "                \n",
    "                for i in range(start, end + 1, 1):\n",
    "                        subtract += array[i]\n",
    "\n",
    "    return sum(array) - subtract"
   ]
  },
  {
   "cell_type": "code",
   "execution_count": 6,
   "id": "b6fba14b-1294-4d32-b10b-3f7d910c08bf",
   "metadata": {},
   "outputs": [
    {
     "data": {
      "text/plain": [
       "9"
      ]
     },
     "execution_count": 6,
     "metadata": {},
     "output_type": "execute_result"
    }
   ],
   "source": [
    "summer_69([1, 3, 5])"
   ]
  },
  {
   "cell_type": "code",
   "execution_count": 7,
   "id": "1a5ba1f6-82b1-4ce8-82c3-3def9dd486ee",
   "metadata": {},
   "outputs": [
    {
     "data": {
      "text/plain": [
       "9"
      ]
     },
     "execution_count": 7,
     "metadata": {},
     "output_type": "execute_result"
    }
   ],
   "source": [
    "summer_69([4, 5, 6, 7, 8, 9])"
   ]
  },
  {
   "cell_type": "code",
   "execution_count": 8,
   "id": "1af72a96-2f37-4e6a-8710-1819d909b777",
   "metadata": {},
   "outputs": [
    {
     "data": {
      "text/plain": [
       "14"
      ]
     },
     "execution_count": 8,
     "metadata": {},
     "output_type": "execute_result"
    }
   ],
   "source": [
    "summer_69([2, 1, 6, 9, 11])"
   ]
  }
 ],
 "metadata": {
  "kernelspec": {
   "display_name": "Python 3 (ipykernel)",
   "language": "python",
   "name": "python3"
  },
  "language_info": {
   "codemirror_mode": {
    "name": "ipython",
    "version": 3
   },
   "file_extension": ".py",
   "mimetype": "text/x-python",
   "name": "python",
   "nbconvert_exporter": "python",
   "pygments_lexer": "ipython3",
   "version": "3.12.4"
  }
 },
 "nbformat": 4,
 "nbformat_minor": 5
}
