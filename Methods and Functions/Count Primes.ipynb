{
 "cells": [
  {
   "cell_type": "markdown",
   "id": "600cd538-df83-4aef-b1e9-48e552d965e4",
   "metadata": {},
   "source": [
    "<b>COUNT PRIMES</b>: <i>Write a function that returns the *number* of prime numbers that exist up to and including a given number</i>\n",
    "```python\n",
    "    count_primes(100) --> 25\n",
    "```\n",
    "<b>By convention, 0 and 1 are not prime.</b>"
   ]
  },
  {
   "cell_type": "code",
   "execution_count": 1,
   "id": "4ff50f03-365f-4fe6-a7dd-be5015077487",
   "metadata": {},
   "outputs": [],
   "source": [
    "def is_prime(n):\n",
    "    if n <= 1:\n",
    "        return False\n",
    "    for i in range(2, int(n ** 0.5) + 1): \n",
    "        if n % i == 0:\n",
    "            return False\n",
    "    return True\n",
    "\n",
    "def count_primes(num):\n",
    "    count = 0\n",
    "\n",
    "    for i in range(2, num + 1): \n",
    "        if is_prime(i): \n",
    "            count += 1 \n",
    "    return count"
   ]
  },
  {
   "cell_type": "code",
   "execution_count": 2,
   "id": "f7bc9641-1332-4adf-b480-f5fed83f7e2c",
   "metadata": {},
   "outputs": [
    {
     "data": {
      "text/plain": [
       "25"
      ]
     },
     "execution_count": 2,
     "metadata": {},
     "output_type": "execute_result"
    }
   ],
   "source": [
    "count_primes(100)"
   ]
  }
 ],
 "metadata": {
  "kernelspec": {
   "display_name": "Python 3 (ipykernel)",
   "language": "python",
   "name": "python3"
  },
  "language_info": {
   "codemirror_mode": {
    "name": "ipython",
    "version": 3
   },
   "file_extension": ".py",
   "mimetype": "text/x-python",
   "name": "python",
   "nbconvert_exporter": "python",
   "pygments_lexer": "ipython3",
   "version": "3.12.4"
  }
 },
 "nbformat": 4,
 "nbformat_minor": 5
}
