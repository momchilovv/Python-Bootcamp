{
 "cells": [
  {
   "cell_type": "markdown",
   "id": "0acea8b4-c5d1-49bb-88db-2656034aa9d6",
   "metadata": {},
   "source": [
    "#### <b>LESSER OF TWO EVENS</b>: <i>Write a function that returns the lesser of two given numbers *if* both numbers are even, but returns the greater if one or both numbers are odd</i>\n",
    "\n",
    "```python    \n",
    "    lesser_of_two_evens(2,4) --> 2\n",
    "    lesser_of_two_evens(2,5) --> 5\n",
    "```"
   ]
  },
  {
   "cell_type": "code",
   "execution_count": 1,
   "id": "18c4e0d6-0f78-4d24-aac2-ddcac0c0585a",
   "metadata": {},
   "outputs": [],
   "source": [
    "def lowest_even(a, b):\n",
    "    if a and b % 2 == 0:\n",
    "        return a if a < b else b\n",
    "    else:\n",
    "        return a if a > b else b"
   ]
  },
  {
   "cell_type": "code",
   "execution_count": 2,
   "id": "1eb49717-b97c-49f6-85ec-80eb40d7193c",
   "metadata": {},
   "outputs": [
    {
     "data": {
      "text/plain": [
       "2"
      ]
     },
     "execution_count": 2,
     "metadata": {},
     "output_type": "execute_result"
    }
   ],
   "source": [
    "lowest_even(2, 4)"
   ]
  },
  {
   "cell_type": "code",
   "execution_count": 3,
   "id": "a8b06077-c7f8-4afb-a0b0-d2b74e023e19",
   "metadata": {},
   "outputs": [
    {
     "data": {
      "text/plain": [
       "5"
      ]
     },
     "execution_count": 3,
     "metadata": {},
     "output_type": "execute_result"
    }
   ],
   "source": [
    "lowest_even(2, 5)"
   ]
  }
 ],
 "metadata": {
  "kernelspec": {
   "display_name": "Python 3 (ipykernel)",
   "language": "python",
   "name": "python3"
  },
  "language_info": {
   "codemirror_mode": {
    "name": "ipython",
    "version": 3
   },
   "file_extension": ".py",
   "mimetype": "text/x-python",
   "name": "python",
   "nbconvert_exporter": "python",
   "pygments_lexer": "ipython3",
   "version": "3.12.4"
  }
 },
 "nbformat": 4,
 "nbformat_minor": 5
}
