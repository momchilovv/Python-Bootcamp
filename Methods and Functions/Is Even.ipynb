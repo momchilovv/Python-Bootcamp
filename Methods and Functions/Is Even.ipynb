{
 "cells": [
  {
   "cell_type": "markdown",
   "id": "7f04b130-7c9e-44a7-b991-de80428461d7",
   "metadata": {},
   "source": [
    "<div style=\"text-align: center;\">\n",
    "  <h3><b>Is Even</b></h3>\n",
    "</div>\n",
    "\n",
    "<hr style=\"border: 1px solid #ccc; margin: 20px 0;\">\n",
    "\n",
    "<p style=\"font-size: 17px; text-align: center;\">\n",
    "  <i>Define a function called</i> <b>is_even</b> <i>that takes in one argument, and returns</i> <b>True</b> <i>if the passed-in value is even,</i> <b>False</b> <i>if it is not.</i>\n",
    "</p>\n",
    "\n",
    "<div style=\"font-size: 17px; text-align: center;\">\n",
    "  Remember, don't run the function, simply provide the definition.\n",
    "</div>\n",
    "\n",
    "<p style=\"font-size: 17px; text-align: center;\">\n",
    "  For example, a function that returns True if a value is divisible by 3 might look like:\n",
    "</p>\n",
    "\n",
    "<p style=\"font-size: 17px; text-align: center;\">\n",
    "  <br>\n",
    "  <code>def is_evenly_divisible_by_3(n):<br>    if n % 3 == 0:<br>        return True<br>    else:<br>        return False</code>\n",
    "</p>\n",
    "\n",
    "<br>\n",
    "\n",
    "<p style=\"font-size: 17px; text-align: center;\">\n",
    "  This is all you need to enter!\n",
    "</p>\n",
    "\n",
    "<div style=\"font-size: 17px; text-align: center;\">\n",
    "  To give an idea what the above function would look like when tested:\n",
    "</div>\n",
    "\n",
    "<p style=\"font-size: 17px; text-align: center;\">\n",
    "  <code>is_evenly_divisible_by_3(15)</code><br>\n",
    "  <b># Output:</b> True\n",
    "</p>\n",
    "\n",
    "<p style=\"font-size: 17px; text-align: center;\">\n",
    "  <b>Added note:</b> this exercise requires that the function <i>return</i> True or False. Print statements will not work here.\n",
    "</p>\n"
   ]
  },
  {
   "cell_type": "code",
   "execution_count": 1,
   "id": "17da07dc-9696-44fd-a8d8-b9d6d5f40c8b",
   "metadata": {},
   "outputs": [],
   "source": [
    "def is_even(number):\n",
    "    if number % 2 == 0:\n",
    "        return True\n",
    "    else:\n",
    "        return False"
   ]
  }
 ],
 "metadata": {
  "kernelspec": {
   "display_name": "Python 3 (ipykernel)",
   "language": "python",
   "name": "python3"
  },
  "language_info": {
   "codemirror_mode": {
    "name": "ipython",
    "version": 3
   },
   "file_extension": ".py",
   "mimetype": "text/x-python",
   "name": "python",
   "nbconvert_exporter": "python",
   "pygments_lexer": "ipython3",
   "version": "3.12.4"
  }
 },
 "nbformat": 4,
 "nbformat_minor": 5
}
